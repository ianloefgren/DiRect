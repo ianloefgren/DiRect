{
 "cells": [
  {
   "cell_type": "code",
   "execution_count": 1,
   "metadata": {
    "collapsed": true
   },
   "outputs": [],
   "source": [
    "import numpy as np\n",
    "import matplotlib.pyplot as plt\n",
    "% matplotlib inline"
   ]
  },
  {
   "cell_type": "code",
   "execution_count": null,
   "metadata": {
    "collapsed": true
   },
   "outputs": [],
   "source": [
    "class DiRect(object):\n",
    "    def __init__(self, f, bounds, epsilon=0.0001, max_feval=20, max_iter=10,\n",
    "    max_rectdiv=100, minimize=True):\n",
    "        self.f = f  # should take (D,) nparray as input\n",
    "        self.bounds = bounds  # Dx2 [[lower, upper]]\n",
    "        self.epsilon = epsilon\n",
    "        self.max_feval = max_feval\n",
    "        self.max_iter = max_iter\n",
    "        self.minimize = minimize\n",
    "        \n",
    "        if not self.minimize:  # means maximization problem\n",
    "            self.f_wrap = lambda x: -self.f(x)\n",
    "\n",
    "        self.scale = bounds[:,1] - bounds[:,0]\n",
    "        self.shift = bounds[:,0]\n",
    "        self.D = bounds.shape[0]\n",
    "        \n",
    "        self.curr_opt = np.inf\n",
    "        self.x_at_opt = None\n",
    "        self.n_feval = 0\n",
    "        self.n_iter = 0\n",
    "        self.n_rectdiv = 0\n",
    "        self.d_rect = {}        \n",
    "        self.l_hist = []\n",
    "\n",
    "        assert isinstance(bounds, np.ndarray)\n",
    "        assert len(bounds.shape) == 2\n",
    "        assert bounds.shape[1] == 2\n",
    "        assert np.all(self.scale > 0.)\n",
    "        ## TODO: other assertions\n",
    "\n",
    "    def u2r(self, unit_coord):\n",
    "        \"\"\"unit to real: map a coordinate \n",
    "        in unit hypercube to one in the actual rectangle\"\"\"\n",
    "        return unit_coord * self.scale + self.shift\n",
    "    \n",
    "    def get_potentially_optimal_rects(self):\n",
    "        self.\n",
    "        return l_po_rects\n",
    "    \n",
    "    def divide_rectangle(self, po_rect):\n",
    "        D = self.D\n",
    "        center = po_rect[0]\n",
    "        f_val = po_rect[1]\n",
    "        sides = po_rect[2] # length of sides\n",
    "        maxlen = np.max(sides)\n",
    "        gap = maxlen / 3.\n",
    "        d2 = po_rect[3]\n",
    "        \n",
    "        d_new_rects = {}\n",
    "        maxlen_sides = np.nonzero(sides == maxlen)\n",
    "        for side_idx in maxlen_sides:\n",
    "            d_new_rects[side_idx] = []\n",
    "            \n",
    "            new_center_u = center[:]\n",
    "            new_center_u[side_idx] += gap\n",
    "            new_fval_u = self.f_wrap(self.u2r(new_center_u))\n",
    "            d_new_rects[side_idx].append([new_center_u, new_fval_u])\n",
    "            \n",
    "            new_center_l = center[:]\n",
    "            new_center_l[side_idx] -= gap\n",
    "            new_fval_l = self.f_wrap(self.u2r(new_center_l))\n",
    "            d_new_rects[side_idx].append([new_center_l, new_fval_l])\n",
    "        \n",
    "        maxlen_sides = sorted(maxlen_sides, \n",
    "                              key=lambda x: min([t[1] for t in d_new_rects[x]]))\n",
    "        \n",
    "            \n",
    "        \n",
    "        \n",
    "        \n",
    "    def run(self):\n",
    "        D = self.D\n",
    "        get_d2 = lambda sides: np.sum((sides/2.)**2)\n",
    "        # initialize\n",
    "        c = np.array([0.5] * D)\n",
    "        f_val = self.f_wrap(self.u2r(c))\n",
    "        s = np.array([1.]*D)\n",
    "        rect = [c, f_val, s, get_d2(s)]\n",
    "        \n",
    "        self.d_rect[rect[-1]] = [rect]\n",
    "        self.l_hist.append((self.u2r(c), f_val))\n",
    "        self.n_feval += 1\n",
    "        self.curr_opt = f_val\n",
    "        \n",
    "        for i in xrange(self.max_iter):\n",
    "            # select potentially optimal rectangles\n",
    "            l_potentially_optimal = [l[0] for l in self.d_rect.values()]\n",
    "            \n",
    "            for po_rect in l_potentially_optimal:\n",
    "                self.divide_rectangle(po_rect)\n",
    "                \n",
    "                \n",
    "        return self.curr_opt, self.x_at_opt, self.l_hist"
   ]
  },
  {
   "cell_type": "code",
   "execution_count": 12,
   "metadata": {
    "collapsed": false
   },
   "outputs": [],
   "source": [
    "? np.nonzero"
   ]
  },
  {
   "cell_type": "code",
   "execution_count": 15,
   "metadata": {
    "collapsed": false
   },
   "outputs": [
    {
     "name": "stdout",
     "output_type": "stream",
     "text": [
      "(array([4, 7, 8]),)\n"
     ]
    }
   ],
   "source": [
    "a = np.array([1,2,3,4,5,4,3,5,5,2])\n",
    "print np.nonzero(a==np.max(a))\n"
   ]
  }
 ],
 "metadata": {
  "kernelspec": {
   "display_name": "Python 2",
   "language": "python",
   "name": "python2"
  },
  "language_info": {
   "codemirror_mode": {
    "name": "ipython",
    "version": 2
   },
   "file_extension": ".py",
   "mimetype": "text/x-python",
   "name": "python",
   "nbconvert_exporter": "python",
   "pygments_lexer": "ipython2",
   "version": "2.7.6"
  }
 },
 "nbformat": 4,
 "nbformat_minor": 0
}
