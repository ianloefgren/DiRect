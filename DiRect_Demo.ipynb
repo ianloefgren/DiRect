{
 "cells": [
  {
   "cell_type": "code",
   "execution_count": 2,
   "metadata": {
    "collapsed": true
   },
   "outputs": [],
   "source": [
    "import numpy as np\n",
    "import matplotlib.pyplot as plt\n",
    "% matplotlib inline"
   ]
  },
  {
   "cell_type": "code",
   "execution_count": 133,
   "metadata": {
    "collapsed": true
   },
   "outputs": [],
   "source": [
    "class DiRect(object):\n",
    "    def __init__(self, f, bounds, epsilon=0.0001, max_feval=20, max_iter=10,\n",
    "    max_rectdiv=100, minimize=True):\n",
    "        self.f = f  # should take (D,) nparray as input\n",
    "        self.bounds = bounds  # Dx2 [[lower, upper]]\n",
    "        self.epsilon = epsilon\n",
    "        self.max_feval = max_feval\n",
    "        self.max_iter = max_iter\n",
    "        self.minimize = minimize\n",
    "        \n",
    "        if not self.minimize:  # means maximization problem\n",
    "            self.f_wrap = lambda x: -self.f(x)\n",
    "        else:\n",
    "            self.f_wrap = self.f\n",
    "\n",
    "        self.scale = bounds[:,1] - bounds[:,0]\n",
    "        self.shift = bounds[:,0]\n",
    "        self.D = bounds.shape[0]\n",
    "        \n",
    "        self.curr_opt = np.inf\n",
    "        self.x_at_opt = None\n",
    "        self.n_feval = 0\n",
    "        self.n_iter = 0\n",
    "        self.n_rectdiv = 0\n",
    "        self.d_rect = {}        \n",
    "        self.l_hist = []\n",
    "\n",
    "        assert isinstance(bounds, np.ndarray)\n",
    "        assert len(bounds.shape) == 2\n",
    "        assert bounds.shape[1] == 2\n",
    "        assert np.all(self.scale > 0.)\n",
    "        ## TODO: other assertions\n",
    "\n",
    "    def u2r(self, unit_coord):\n",
    "        \"\"\"unit to real: map a coordinate \n",
    "        in unit hypercube to one in the actual rectangle\"\"\"\n",
    "        return unit_coord * self.scale + self.shift\n",
    "    \n",
    "    def divide_rectangle(self, po_rect):\n",
    "        D = self.D\n",
    "        maxlen = np.max(po_rect.sides)\n",
    "        gap = maxlen / 3.\n",
    "        d_new_rects = {}\n",
    "        \n",
    "        self.d_rect[po_rect.d2].remove(po_rect)\n",
    "        \n",
    "        # only the longest sides are divided\n",
    "        maxlen_sides = list(np.nonzero(po_rect.sides == maxlen)[0])\n",
    "        for side_idx in maxlen_sides:\n",
    "            d_new_rects[side_idx] = []\n",
    "            \n",
    "            new_center_u = po_rect.center.copy()\n",
    "            new_center_u[side_idx] += gap\n",
    "            new_fval_u = self.f_wrap(self.u2r(new_center_u))\n",
    "            d_new_rects[side_idx].append(Rectangle(new_center_u, new_fval_u, po_rect.sides.copy()))\n",
    "            self.l_hist.append((self.u2r(new_center_u), new_fval_u))\n",
    "            \n",
    "            new_center_l = po_rect.center.copy()\n",
    "            new_center_l[side_idx] -= gap\n",
    "            new_fval_l = self.f_wrap(self.u2r(new_center_l))\n",
    "            d_new_rects[side_idx].append(Rectangle(new_center_l, new_fval_l, po_rect.sides.copy()))\n",
    "            self.l_hist.append((self.u2r(new_center_l), new_fval_l))\n",
    "        \n",
    "        maxlen_sides = sorted(maxlen_sides, \n",
    "                              key=lambda x: min([t.f_val for t in d_new_rects[x]]))\n",
    "        \n",
    "        for i in xrange(len(maxlen_sides)):\n",
    "            for side_idx in maxlen_sides[i:]:\n",
    "                po_rect.sides[side_idx] /= 3.\n",
    "                for each_rect in d_new_rects[side_idx]:\n",
    "                    each_rect.sides[side_idx] /= 3.\n",
    "                    \n",
    "        \n",
    "        for l_rect in d_new_rects.values():\n",
    "            for each_rect in l_rect:\n",
    "                d2 = each_rect.d2 \n",
    "                if d2 not in self.d_rect:\n",
    "                    self.d_rect[d2] = [each_rect]\n",
    "                else:\n",
    "                    if each_rect.f_val < self.d_rect[d2][0].f_val:\n",
    "                        self.d_rect[d2].insert(0, each_rect)\n",
    "                    else:\n",
    "                        self.d_rect[d2].append(each_rect)\n",
    "                        \n",
    "        if po_rect.d2 not in self.d_rect:\n",
    "            self.d_rect[po_rect.d2] = [po_rect]\n",
    "        else:\n",
    "            if po_rect.f_val < self.d_rect[po_rect.d2][0].f_val:\n",
    "                self.d_rect[po_rect.d2].insert(0, po_rect)\n",
    "            else:\n",
    "                self.d_rect[po_rect.d2].append(po_rect)\n",
    "        \n",
    "        # remove empty list from the dictionary\n",
    "        for dd in [key for key in self.d_rect if len(self.d_rect[key]) == 0]:\n",
    "            self.d_rect.pop(dd)\n",
    "        \n",
    "    def run(self):\n",
    "        D = self.D\n",
    "        \n",
    "        # initialize\n",
    "        c = np.array([0.5] * D)\n",
    "        f_val = self.f_wrap(self.u2r(c))\n",
    "        s = np.array([1.]*D)\n",
    "        rect = Rectangle(c, f_val, s)\n",
    "        \n",
    "        self.d_rect[rect.d2] = [rect]\n",
    "        self.l_hist.append((self.u2r(c), f_val))\n",
    "        self.n_feval += 1\n",
    "        self.curr_opt = f_val\n",
    "        \n",
    "        for i in xrange(self.max_iter):\n",
    "            print i\n",
    "            for key, val in self.d_rect.items():\n",
    "                for r in val:\n",
    "                    print key, r.center, r.f_val, r.sides\n",
    "            \n",
    "            # select potentially optimal rectangles\n",
    "            l_potentially_optimal = [l[0] for l in self.d_rect.values()]\n",
    "            \n",
    "            for po_rect in l_potentially_optimal:\n",
    "                self.divide_rectangle(po_rect)\n",
    "                \n",
    "        return self.curr_opt, self.x_at_opt, self.l_hist\n",
    "    \n",
    "class Rectangle(object):\n",
    "    def __init__(self, center, f_val, sides):\n",
    "        self.center = center\n",
    "        self.f_val = f_val\n",
    "        self.sides = sides\n",
    "        self.__str__ = f_val\n",
    "        \n",
    "    @property\n",
    "    def d2(self):\n",
    "        return np.sum((self.sides / 2.) ** 2)"
   ]
  },
  {
   "cell_type": "code",
   "execution_count": 135,
   "metadata": {
    "collapsed": false
   },
   "outputs": [
    {
     "name": "stdout",
     "output_type": "stream",
     "text": [
      "0\n",
      "0.25 [ 0.5] 0.25 [ 1.]\n",
      "1\n",
      "0.0277777777778 [ 0.16666667] 0.0277777777778 [ 0.33333333]\n",
      "0.0277777777778 [ 0.83333333] 0.694444444444 [ 0.33333333]\n",
      "0.0277777777778 [ 0.5] 0.25 [ 0.33333333]\n",
      "2\n",
      "0.0277777777778 [ 0.83333333] 0.694444444444 [ 0.33333333]\n",
      "0.0277777777778 [ 0.5] 0.25 [ 0.33333333]\n",
      "0.00308641975309 [ 0.05555556] 0.00308641975309 [ 0.11111111]\n",
      "0.00308641975309 [ 0.27777778] 0.0771604938272 [ 0.11111111]\n",
      "0.00308641975309 [ 0.16666667] 0.0277777777778 [ 0.11111111]\n",
      "3\n",
      "0.0277777777778 [ 0.5] 0.25 [ 0.33333333]\n",
      "0.000342935528121 [ 0.01851852] 0.000342935528121 [ 0.03703704]\n",
      "0.000342935528121 [ 0.09259259] 0.00857338820302 [ 0.03703704]\n",
      "0.000342935528121 [ 0.05555556] 0.00308641975309 [ 0.03703704]\n",
      "0.00308641975309 [ 0.27777778] 0.0771604938272 [ 0.11111111]\n",
      "0.00308641975309 [ 0.16666667] 0.0277777777778 [ 0.11111111]\n",
      "0.00308641975309 [ 0.94444444] 0.891975308642 [ 0.11111111]\n",
      "0.00308641975309 [ 0.72222222] 0.521604938272 [ 0.11111111]\n",
      "0.00308641975309 [ 0.83333333] 0.694444444444 [ 0.11111111]\n"
     ]
    },
    {
     "data": {
      "image/png": "[encoded data removed]",
      "text/plain": [
       "<matplotlib.figure.Figure at 0xca95e10>"
      ]
     },
     "metadata": {},
     "output_type": "display_data"
    }
   ],
   "source": [
    "func_1d = lambda x: (x**2)[0]\n",
    "b = np.array([[0,1]])\n",
    "direct = DiRect(func_1d, b, max_iter=4)\n",
    "direct.run()\n",
    "# print direct.l_hist\n",
    "plt.figure()\n",
    "x = np.linspace(b[0,0], b[0,1], 100).reshape((1,-1))\n",
    "y = func_1d(x)\n",
    "plt.plot(x.flatten(),y)\n",
    "i = 0\n",
    "for hist in direct.l_hist:\n",
    "    plt.plot(hist[0], hist[1], 'r.')\n",
    "    plt.text(hist[0], hist[1]+0.05, i)\n",
    "    i += 1"
   ]
  },
  {
   "cell_type": "code",
   "execution_count": 131,
   "metadata": {
    "collapsed": false
   },
   "outputs": [
    {
     "name": "stdout",
     "output_type": "stream",
     "text": [
      "[1 3 3]\n",
      "[1 2 3]\n"
     ]
    }
   ],
   "source": [
    "a = np.array([1,2,3])\n",
    "b = a.copy()\n",
    "a[1] += 1\n",
    "print a\n",
    "print b"
   ]
  },
  {
   "cell_type": "code",
   "execution_count": 80,
   "metadata": {
    "collapsed": false
   },
   "outputs": [
    {
     "name": "stdout",
     "output_type": "stream",
     "text": [
      "{3: 4}\n"
     ]
    }
   ],
   "source": [
    "a = {1:2, 3:4}\n",
    "a.(1)\n",
    "print a"
   ]
  },
  {
   "cell_type": "code",
   "execution_count": 6,
   "metadata": {
    "collapsed": false
   },
   "outputs": [
    {
     "name": "stdout",
     "output_type": "stream",
     "text": [
      "[1 2 4]\n",
      "[1 2 3]\n"
     ]
    }
   ],
   "source": [
    "a = np.array([1,2,3])\n",
    "b = a.copy()\n",
    "a[2] += 1\n",
    "print a\n",
    "print b"
   ]
  },
  {
   "cell_type": "code",
   "execution_count": 7,
   "metadata": {
    "collapsed": false
   },
   "outputs": [
    {
     "name": "stdout",
     "output_type": "stream",
     "text": [
      "[1, 2, 4]\n",
      "[1, 2, 3]\n"
     ]
    }
   ],
   "source": [
    "a = [1,2,3]\n",
    "b = a[:]\n",
    "a[2] += 1\n",
    "print a\n",
    "print b"
   ]
  },
  {
   "cell_type": "code",
   "execution_count": 8,
   "metadata": {
    "collapsed": false
   },
   "outputs": [
    {
     "name": "stdout",
     "output_type": "stream",
     "text": [
      "[1, array([3, 3])]\n",
      "[1, array([3, 3])]\n"
     ]
    }
   ],
   "source": [
    "a = [1, np.array([2,3])]\n",
    "b = a[:]\n",
    "a[1][0] += 1\n",
    "print a\n",
    "print b"
   ]
  }
 ],
 "metadata": {
  "kernelspec": {
   "display_name": "Python 2",
   "language": "python",
   "name": "python2"
  },
  "language_info": {
   "codemirror_mode": {
    "name": "ipython",
    "version": 2
   },
   "file_extension": ".py",
   "mimetype": "text/x-python",
   "name": "python",
   "nbconvert_exporter": "python",
   "pygments_lexer": "ipython2",
   "version": "2.7.10"
  }
 },
 "nbformat": 4,
 "nbformat_minor": 0
}
